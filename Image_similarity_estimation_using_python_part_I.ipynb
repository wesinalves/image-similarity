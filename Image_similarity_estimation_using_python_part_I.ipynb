{
  "cells": [
    {
      "cell_type": "markdown",
      "metadata": {
        "id": "eWHOhV1fer5P"
      },
      "source": [
        "# Image similarity estimation using python - Part I\n",
        "Siames Network with a contrastive loss"
      ]
    },
    {
      "cell_type": "markdown",
      "metadata": {
        "id": "bzpGxKc5fABa"
      },
      "source": [
        "# Setup"
      ]
    },
    {
      "cell_type": "code",
      "execution_count": null,
      "metadata": {
        "id": "o5psN4vZeN_L"
      },
      "outputs": [],
      "source": [
        "import random\n",
        "import numpy as np\n",
        "import tensorflow as tf\n",
        "from tensorflow import keras\n",
        "from tensorflow.keras import layers\n",
        "import matplotlib.pyplot as plt\n",
        "from tensorflow.keras.utils import plot_model"
      ]
    },
    {
      "cell_type": "markdown",
      "metadata": {
        "id": "dp3E3D1nfEeX"
      },
      "source": [
        "# Hyperparameters"
      ]
    },
    {
      "cell_type": "code",
      "execution_count": 1,
      "metadata": {
        "id": "HyIeNdahe3eD"
      },
      "outputs": [],
      "source": [
        "epochs = 10\n",
        "batch_size = 16\n",
        "margin = 1  # Margin for contrastive loss."
      ]
    },
    {
      "cell_type": "markdown",
      "metadata": {
        "id": "NzYZIcMefLOK"
      },
      "source": [
        "# Load the MNIST dataset"
      ]
    },
    {
      "cell_type": "code",
      "execution_count": null,
      "metadata": {
        "colab": {
          "base_uri": "https://localhost:8080/"
        },
        "id": "YGrhpd4dfPZv",
        "outputId": "7c86b524-b0d7-429d-bc3b-c410032bea75"
      },
      "outputs": [
        {
          "name": "stdout",
          "output_type": "stream",
          "text": [
            "Downloading data from https://storage.googleapis.com/tensorflow/tf-keras-datasets/mnist.npz\n",
            "11490434/11490434 [==============================] - 0s 0us/step\n"
          ]
        }
      ],
      "source": [
        "(x_train_val, y_train_val), (x_test, y_test) = keras.datasets.mnist.load_data()\n",
        "\n",
        "# Change the data type to a floating point format\n",
        "x_train_val = x_train_val.astype(\"float32\")\n",
        "x_test = x_test.astype(\"float32\")"
      ]
    },
    {
      "cell_type": "markdown",
      "metadata": {
        "id": "-FrpWVbsgIzm"
      },
      "source": [
        "# Define training and validation sets"
      ]
    },
    {
      "cell_type": "code",
      "execution_count": null,
      "metadata": {
        "id": "zjPtpyrxgNuP"
      },
      "outputs": [],
      "source": [
        "# Keep 50% of train_val  in validation set\n",
        "x_train, x_val = x_train_val[:30000], x_train_val[30000:]\n",
        "y_train, y_val = y_train_val[:30000], y_train_val[30000:]\n",
        "del x_train_val, y_train_val\n"
      ]
    },
    {
      "cell_type": "markdown",
      "metadata": {
        "id": "PJZj3G6ugc67"
      },
      "source": [
        "# Create pairs of images\n",
        "O objetivo de criar pares de imagem é fazer o modelo diferenciar digitos entre duas classes. Por exemplo, O != (1 - 9), 1 != (0,2 - 9), 2 != (0,1 - 3-9), etc.\n",
        "\n",
        "1. selecionar N imagens aleatórias da classe A (ex. digito 0) e pareá-la com N imagens aleatórias da classe B (ex. digito 1)\n",
        "2. Repetir etapa (1) para todas as classes (até o digito 9)\n",
        "3. Repetir etapa (2) para o restante das classes de digitos (1 - 9)"
      ]
    },
    {
      "cell_type": "code",
      "execution_count": null,
      "metadata": {
        "id": "jukDnJmugapp"
      },
      "outputs": [],
      "source": [
        "def make_pair(x, y):\n",
        "  num_classes = max(y) + 1\n",
        "  # Return elements chosen from y depending on condition.\n",
        "  digit_indices = [np.where(y == i)[0] for i in range(num_classes)]\n",
        "\n",
        "  pairs = []\n",
        "  labels = []\n",
        "\n",
        "  for idx1 in range(len(x)):\n",
        "    x1 = x[idx1]\n",
        "    label1 = y[idx1]\n",
        "    idx2 = random.choice(digit_indices[label1])\n",
        "    x2 = x[idx2]\n",
        "\n",
        "    pairs += [[x1, x2]]\n",
        "    labels += [0] # when digits are equals\n",
        "\n",
        "    label2 = random.randint(0, num_classes - 1)\n",
        "    while label2 == label1:\n",
        "      label2 = random.randint(0, num_classes - 1)\n",
        "\n",
        "    idx2 = random.choice(digit_indices[label2])\n",
        "    x2 = x[idx2]\n",
        "\n",
        "    pairs += [[x1, x2]]\n",
        "    labels += [1] # when digits are different\n",
        "\n",
        "  return np.array(pairs), np.array(labels).astype(\"float32\")\n",
        "\n",
        "pairs_train, labels_train = make_pair(x_train, y_train)\n",
        "pairs_val, labels_val = make_pair(x_val, y_val)\n",
        "pairs_test, labels_test = make_pair(x_test, y_test)\n",
        "\n"
      ]
    },
    {
      "cell_type": "markdown",
      "metadata": {
        "id": "iQO_UDwSt4zy"
      },
      "source": [
        "### pairs_train.shape = (60000, 2, 28,28)\n",
        "* 60.000 pares\n",
        "* cada par contem 2 imagens\n",
        "* cada imagem possui dimensão (28,28)"
      ]
    },
    {
      "cell_type": "markdown",
      "metadata": {
        "id": "2H8bAjewupSm"
      },
      "source": [
        "### Split the pairs"
      ]
    },
    {
      "cell_type": "code",
      "execution_count": null,
      "metadata": {
        "id": "SFTWmuxtpAZr"
      },
      "outputs": [],
      "source": [
        "x_train_1 = pairs_train[:, 0]  # x_train_1.shape is (60000, 28, 28)\n",
        "x_train_2 = pairs_train[:, 1]\n",
        "\n",
        "x_val_1 = pairs_val[:, 0]  # x_val_1.shape = (60000, 28, 28)\n",
        "x_val_2 = pairs_val[:, 1]\n",
        "\n",
        "x_test_1 = pairs_test[:, 0]  # x_test_1.shape = (20000, 28, 28)\n",
        "x_test_2 = pairs_test[:, 1]"
      ]
    },
    {
      "cell_type": "markdown",
      "metadata": {
        "id": "E2U04vmLvH3m"
      },
      "source": [
        "# Visualize pairs and their labels"
      ]
    },
    {
      "cell_type": "code",
      "execution_count": null,
      "metadata": {
        "id": "wNc5sR-KvHWN"
      },
      "outputs": [],
      "source": [
        "def visualize(pairs, labels, to_show=6, num_col=3, predictions=None, test=False):\n",
        "  num_row = to_show // num_col if to_show // num_col != 0 else 1\n",
        "  to_show = num_row * num_col\n",
        "\n",
        "  fig, axes = plt.subplots(num_row, num_col, figsize=(5,5))\n",
        "  for i in range(to_show):\n",
        "    if num_row == 1:\n",
        "      ax = axes[i % num_col]\n",
        "    else:\n",
        "      ax = axes[i // num_col, i % num_col]\n",
        "\n",
        "    ax.imshow(tf.concat([pairs[i][0], pairs[i][1]], axis=1), cmap=\"gray\")\n",
        "    ax.set_axis_off() # Hide all visual components of the x- and y-axis\n",
        "\n",
        "    if test:\n",
        "      ax.set_title(f\"True {labels[i]} | Pred: {predictions[i][0]:.2f}\")\n",
        "    else:\n",
        "      ax.set_title(f\"Label: {labels[i]}\")\n",
        "\n",
        "  if test:\n",
        "    plt.tight_layout(rect=(0, 0, 1.9, 1.9), w_pad=0.0)\n",
        "  else:\n",
        "    plt.tight_layout(rect=(0,0,1.5,1.5))\n",
        "\n",
        "  plt.show()\n",
        "\n"
      ]
    },
    {
      "cell_type": "code",
      "execution_count": null,
      "metadata": {
        "colab": {
          "base_uri": "https://localhost:8080/",
          "height": 143
        },
        "id": "s3A2kTwgw-NK",
        "outputId": "fd00d6ae-fc54-4d9c-a7a4-934c59bfc3e7"
      },
      "outputs": [
        {
          "data": {
            "image/png": "[encoded data removed]",
            "text/plain": [
              "<Figure size 500x500 with 4 Axes>"
            ]
          },
          "metadata": {},
          "output_type": "display_data"
        }
      ],
      "source": [
        "visualize(pairs_train, labels_train, to_show=4, num_col=4)"
      ]
    },
    {
      "cell_type": "code",
      "execution_count": null,
      "metadata": {
        "colab": {
          "base_uri": "https://localhost:8080/",
          "height": 143
        },
        "id": "bL9Ah35Y0VBx",
        "outputId": "3e981376-c93d-4f98-9602-879fb09a8066"
      },
      "outputs": [
        {
          "data": {
            "image/png": "[encoded data removed]",
            "text/plain": [
              "<Figure size 500x500 with 4 Axes>"
            ]
          },
          "metadata": {},
          "output_type": "display_data"
        }
      ],
      "source": [
        "visualize(pairs_val, labels_val, to_show=4, num_col=4)"
      ]
    },
    {
      "cell_type": "code",
      "execution_count": null,
      "metadata": {
        "colab": {
          "base_uri": "https://localhost:8080/",
          "height": 143
        },
        "id": "sEA9nIYp0Y5W",
        "outputId": "c47adb2e-fb3e-413a-f59c-b4ec248948e8"
      },
      "outputs": [
        {
          "data": {
            "image/png": "[encoded data removed]",
            "text/plain": [
              "<Figure size 500x500 with 4 Axes>"
            ]
          },
          "metadata": {},
          "output_type": "display_data"
        }
      ],
      "source": [
        "visualize(pairs_test, labels_test, to_show=4, num_col=4)"
      ]
    },
    {
      "cell_type": "markdown",
      "metadata": {
        "id": "DiPHaLo-02Qu"
      },
      "source": [
        "# Define the model\n",
        "\n",
        "* two inputs layers\n",
        "* two networks (siamese network)\n",
        "* lambda layer for compute euclidean distance\n",
        "* final dense layer to merge outputs\n",
        "* constrative loss"
      ]
    },
    {
      "cell_type": "code",
      "execution_count": null,
      "metadata": {
        "id": "djkJVuYR1nTF"
      },
      "outputs": [],
      "source": [
        "def euclidean_distance(vects):\n",
        "  x, y = vects\n",
        "  sum_square = tf.math.reduce_sum(tf.math.square(x - y), axis=1, keepdims=True)\n",
        "  return tf.math.sqrt(tf.math.maximum(sum_square, tf.keras.backend.epsilon())) # avoid zero division"
      ]
    },
    {
      "cell_type": "code",
      "execution_count": null,
      "metadata": {
        "id": "KScg6WMC4CSH"
      },
      "outputs": [],
      "source": [
        "def loss(margin=1):\n",
        "  def constrative_loss(y_true, y_pred):\n",
        "    square_pred = tf.math.square(y_pred)\n",
        "    margin_square = tf.math.square(tf.math.maximum(margin - (y_pred), 0))\n",
        "    return tf.math.reduce_mean(\n",
        "        (1 - y_true) * square_pred + (y_true) * margin_square\n",
        "    )\n",
        "  return constrative_loss"
      ]
    },
    {
      "cell_type": "code",
      "execution_count": null,
      "metadata": {
        "colab": {
          "base_uri": "https://localhost:8080/"
        },
        "id": "VgCUKvVY5l-n",
        "outputId": "8e74c755-d6e2-4bdf-a585-5778fefc3dc2"
      },
      "outputs": [
        {
          "name": "stdout",
          "output_type": "stream",
          "text": [
            "Model: \"model_3\"\n",
            "__________________________________________________________________________________________________\n",
            " Layer (type)                Output Shape                 Param #   Connected to                  \n",
            "==================================================================================================\n",
            " input_5 (InputLayer)        [(None, 28, 28, 1)]          0         []                            \n",
            "                                                                                                  \n",
            " input_6 (InputLayer)        [(None, 28, 28, 1)]          0         []                            \n",
            "                                                                                                  \n",
            " model_2 (Functional)        (None, 10)                   5318      ['input_5[0][0]',             \n",
            "                                                                     'input_6[0][0]']             \n",
            "                                                                                                  \n",
            " lambda_1 (Lambda)           (None, 1)                    0         ['model_2[0][0]',             \n",
            "                                                                     'model_2[1][0]']             \n",
            "                                                                                                  \n",
            " batch_normalization_5 (Bat  (None, 1)                    4         ['lambda_1[0][0]']            \n",
            " chNormalization)                                                                                 \n",
            "                                                                                                  \n",
            " dense_3 (Dense)             (None, 1)                    2         ['batch_normalization_5[0][0]'\n",
            "                                                                    ]                             \n",
            "                                                                                                  \n",
            "==================================================================================================\n",
            "Total params: 5324 (20.80 KB)\n",
            "Trainable params: 4808 (18.78 KB)\n",
            "Non-trainable params: 516 (2.02 KB)\n",
            "__________________________________________________________________________________________________\n"
          ]
        }
      ],
      "source": [
        "input = layers.Input((28,28,1))\n",
        "# baseline network\n",
        "x = tf.keras.layers.BatchNormalization()(input)\n",
        "x = layers.Conv2D(4, (5,5), activation=\"tanh\")(x)\n",
        "x = layers.AveragePooling2D(pool_size=(2,2))(x)\n",
        "x = layers.Conv2D(16, (5,5), activation=\"tanh\")(x)\n",
        "x = layers.AveragePooling2D(pool_size=(2,2))(x)\n",
        "x = layers.Flatten()(x)\n",
        "\n",
        "x = tf.keras.layers.BatchNormalization()(x)\n",
        "x = layers.Dense(10, activation=\"tanh\")(x)\n",
        "embedding_network = keras.Model(input, x)\n",
        "plot_model(embedding_network, to_file='model_embedding.png', show_shapes=True, show_layer_names=True)"
      ]
    },
    {
      "cell_type": "code",
      "execution_count": null,
      "metadata": {},
      "outputs": [],
      "source": [
        "input_1 = layers.Input((28,28,1))\n",
        "input_2 = layers.Input((28,28,1))\n",
        "\n",
        "# siamese network\n",
        "# share weights between sisters\n",
        "tower_1 = embedding_network(input_1)\n",
        "tower_2 = embedding_network(input_2)\n",
        "\n",
        "merge_layer = layers.Lambda(euclidean_distance)([tower_1, tower_2])\n",
        "normal_layer = tf.keras.layers.BatchNormalization()(merge_layer)\n",
        "output_layer = layers.Dense(1, activation=\"sigmoid\")(normal_layer)\n",
        "siamese = keras.Model(inputs=[input_1, input_2], outputs=output_layer)\n",
        "\n",
        "siamese.compile(loss=loss(margin=margin), optimizer=\"RMSprop\", metrics=[\"accuracy\"])\n",
        "siamese.summary()\n",
        "plot_model(siamese, to_file='siamese_plot.png', show_shapes=True, show_layer_names=True)"
      ]
    },
    {
      "cell_type": "markdown",
      "metadata": {
        "id": "jit_ixfpBmEX"
      },
      "source": [
        "# train the model"
      ]
    },
    {
      "cell_type": "code",
      "execution_count": null,
      "metadata": {
        "colab": {
          "base_uri": "https://localhost:8080/",
          "height": 248
        },
        "id": "wERQCOk9BlT6",
        "outputId": "2530a6a6-818b-432c-81a4-8236aa8a34f9"
      },
      "outputs": [
        {
          "ename": "NameError",
          "evalue": "ignored",
          "output_type": "error",
          "traceback": [
            "\u001b[0;31m---------------------------------------------------------------------------\u001b[0m",
            "\u001b[0;31mNameError\u001b[0m                                 Traceback (most recent call last)",
            "\u001b[0;32m<ipython-input-1-ab6791df4510>\u001b[0m in \u001b[0;36m<cell line: 1>\u001b[0;34m()\u001b[0m\n\u001b[0;32m----> 1\u001b[0;31m history = siamese.fit(\n\u001b[0m\u001b[1;32m      2\u001b[0m     \u001b[0;34m[\u001b[0m\u001b[0mx_train_1\u001b[0m\u001b[0;34m,\u001b[0m \u001b[0mx_train_2\u001b[0m\u001b[0;34m]\u001b[0m\u001b[0;34m,\u001b[0m\u001b[0;34m\u001b[0m\u001b[0;34m\u001b[0m\u001b[0m\n\u001b[1;32m      3\u001b[0m     \u001b[0mlabels_train\u001b[0m\u001b[0;34m,\u001b[0m\u001b[0;34m\u001b[0m\u001b[0;34m\u001b[0m\u001b[0m\n\u001b[1;32m      4\u001b[0m     \u001b[0mvalidation_data\u001b[0m\u001b[0;34m=\u001b[0m\u001b[0;34m(\u001b[0m\u001b[0;34m[\u001b[0m\u001b[0mx_val_1\u001b[0m\u001b[0;34m,\u001b[0m \u001b[0mx_val_2\u001b[0m\u001b[0;34m]\u001b[0m\u001b[0;34m,\u001b[0m \u001b[0mlabels_val\u001b[0m\u001b[0;34m)\u001b[0m\u001b[0;34m,\u001b[0m\u001b[0;34m\u001b[0m\u001b[0;34m\u001b[0m\u001b[0m\n\u001b[1;32m      5\u001b[0m     \u001b[0mbatch_size\u001b[0m \u001b[0;34m=\u001b[0m \u001b[0mbatch_size\u001b[0m\u001b[0;34m,\u001b[0m\u001b[0;34m\u001b[0m\u001b[0;34m\u001b[0m\u001b[0m\n",
            "\u001b[0;31mNameError\u001b[0m: name 'siamese' is not defined"
          ]
        }
      ],
      "source": [
        "history = siamese.fit(\n",
        "    [x_train_1, x_train_2],\n",
        "    labels_train,\n",
        "    validation_data=([x_val_1, x_val_2], labels_val),\n",
        "    batch_size = batch_size,\n",
        "    epochs = epochs,\n",
        ")"
      ]
    },
    {
      "cell_type": "code",
      "execution_count": null,
      "metadata": {
        "id": "J1rNB-q4Cym4"
      },
      "outputs": [],
      "source": [
        "def plt_metric(history, metric, title, has_valid=True):\n",
        "  plt.plot(history[metric])\n",
        "  if has_valid:\n",
        "    plt.plot(history[\"val_\" + metric])\n",
        "    plt.legend([\"train\", \"validation\"], loc=\"upper left\")\n",
        "  plt.title(title)\n",
        "  plt.ylabel(metric)\n",
        "  plt.xlabel(\"epoch\")\n",
        "  plt.show()"
      ]
    },
    {
      "cell_type": "code",
      "execution_count": null,
      "metadata": {
        "colab": {
          "base_uri": "https://localhost:8080/",
          "height": 472
        },
        "id": "WSKBOAz2MWPN",
        "outputId": "b47c1b30-576f-4991-b579-2157d2e1aaf3"
      },
      "outputs": [
        {
          "data": {
            "image/png": "[encoded data removed]",
            "text/plain": [
              "<Figure size 640x480 with 1 Axes>"
            ]
          },
          "metadata": {},
          "output_type": "display_data"
        }
      ],
      "source": [
        "plt_metric(history=history.history, metric=\"accuracy\", title=\"Model accuracy\")"
      ]
    },
    {
      "cell_type": "code",
      "execution_count": null,
      "metadata": {
        "colab": {
          "base_uri": "https://localhost:8080/",
          "height": 472
        },
        "id": "ma0QVU9gMjqe",
        "outputId": "eb61bfd5-384e-4b3f-f495-a14b66020918"
      },
      "outputs": [
        {
          "data": {
            "image/png": "[encoded data removed]",
            "text/plain": [
              "<Figure size 640x480 with 1 Axes>"
            ]
          },
          "metadata": {},
          "output_type": "display_data"
        }
      ],
      "source": [
        "plt_metric(history=history.history, metric=\"loss\", title=\"Contrastive loss\")"
      ]
    },
    {
      "cell_type": "markdown",
      "metadata": {
        "id": "NOR-BI8RNMIb"
      },
      "source": [
        "# evaluate the model"
      ]
    },
    {
      "cell_type": "code",
      "execution_count": null,
      "metadata": {
        "colab": {
          "base_uri": "https://localhost:8080/"
        },
        "id": "RF1DKBVsNOH5",
        "outputId": "751021ab-30ea-4ae6-9f6c-434039ba94c7"
      },
      "outputs": [
        {
          "name": "stdout",
          "output_type": "stream",
          "text": [
            "625/625 [==============================] - 3s 3ms/step - loss: 0.0138 - accuracy: 0.9826\n",
            "test loss, test acc [0.013753842562437057, 0.9826499819755554]\n"
          ]
        }
      ],
      "source": [
        "results = siamese.evaluate([x_test_1, x_test_2], labels_test)\n",
        "print(\"test loss, test acc\", results)"
      ]
    },
    {
      "cell_type": "markdown",
      "metadata": {
        "id": "D8a8cEJ3NgS6"
      },
      "source": [
        "# visualize the predictions"
      ]
    },
    {
      "cell_type": "code",
      "execution_count": null,
      "metadata": {
        "colab": {
          "base_uri": "https://localhost:8080/",
          "height": 229
        },
        "id": "5UwkpzAzNiyt",
        "outputId": "afa75a9a-70f9-43ff-fb58-89c6bba48868"
      },
      "outputs": [
        {
          "name": "stdout",
          "output_type": "stream",
          "text": [
            "625/625 [==============================] - 2s 3ms/step\n"
          ]
        },
        {
          "data": {
            "image/png": "[encoded data removed]",
            "text/plain": [
              "<Figure size 500x500 with 3 Axes>"
            ]
          },
          "metadata": {},
          "output_type": "display_data"
        }
      ],
      "source": [
        "predictions =  siamese.predict([x_test_1, x_test_2])\n",
        "visualize(pairs_test, labels_test, to_show=3, predictions=predictions, test=True)"
      ]
    }
  ],
  "metadata": {
    "colab": {
      "gpuType": "T4",
      "provenance": []
    },
    "kernelspec": {
      "display_name": "Python 3",
      "name": "python3"
    },
    "language_info": {
      "name": "python"
    }
  },
  "nbformat": 4,
  "nbformat_minor": 0
}
