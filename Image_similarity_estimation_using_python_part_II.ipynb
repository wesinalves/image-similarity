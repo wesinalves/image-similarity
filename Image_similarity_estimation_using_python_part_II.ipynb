{
  "nbformat": 4,
  "nbformat_minor": 0,
  "metadata": {
    "colab": {
      "provenance": [],
      "gpuType": "T4"
    },
    "kernelspec": {
      "name": "python3",
      "display_name": "Python 3"
    },
    "language_info": {
      "name": "python"
    },
    "accelerator": "GPU"
  },
  "cells": [
    {
      "cell_type": "markdown",
      "source": [
        "# Image similarity estimation using python - Part II\n",
        "Siames Network with triplet loss"
      ],
      "metadata": {
        "id": "eWHOhV1fer5P"
      }
    },
    {
      "cell_type": "markdown",
      "source": [
        "# Setup"
      ],
      "metadata": {
        "id": "bzpGxKc5fABa"
      }
    },
    {
      "cell_type": "code",
      "source": [
        "import matplotlib.pyplot as plt\n",
        "import numpy as np\n",
        "import os\n",
        "import random\n",
        "import tensorflow as tf\n",
        "from pathlib import Path\n",
        "from tensorflow.keras import datasets\n",
        "from tensorflow.keras import layers\n",
        "from tensorflow.keras import losses\n",
        "from tensorflow.keras import optimizers\n",
        "from tensorflow.keras import metrics\n",
        "from tensorflow.keras import Model\n"
      ],
      "metadata": {
        "id": "GkOJ3pHIAgFX"
      },
      "execution_count": 1,
      "outputs": []
    },
    {
      "cell_type": "markdown",
      "source": [
        "# Hyperparameters"
      ],
      "metadata": {
        "id": "C1EfjeQlk_cI"
      }
    },
    {
      "cell_type": "code",
      "source": [
        "epochs = 10\n",
        "batch_size = 16\n",
        "margin = 1  # Margin for contrastive loss."
      ],
      "metadata": {
        "id": "YbLU91cok8-A"
      },
      "execution_count": null,
      "outputs": []
    },
    {
      "cell_type": "markdown",
      "source": [
        "# load mnist datase"
      ],
      "metadata": {
        "id": "IPRI4fAPlE4d"
      }
    },
    {
      "cell_type": "code",
      "source": [
        "(x_train_val, y_train_val), (x_test, y_test) = datasets.mnist.load_data()\n",
        "\n",
        "x_train_val = x_train_val.astype(\"float32\")\n",
        "x_test = x_test.astype(\"float32\")\n"
      ],
      "metadata": {
        "colab": {
          "base_uri": "https://localhost:8080/"
        },
        "id": "bqziNGDuEr7J",
        "outputId": "4746190d-a3a3-486b-a276-3b126caddde7"
      },
      "execution_count": 2,
      "outputs": [
        {
          "output_type": "stream",
          "name": "stdout",
          "text": [
            "Downloading data from https://storage.googleapis.com/tensorflow/tf-keras-datasets/mnist.npz\n",
            "11490434/11490434 [==============================] - 2s 0us/step\n"
          ]
        }
      ]
    },
    {
      "cell_type": "markdown",
      "source": [
        "# Define training and validation sets"
      ],
      "metadata": {
        "id": "9JiRfYpzlLy_"
      }
    },
    {
      "cell_type": "code",
      "source": [
        "# Keep 50% of train_val  in validation set\n",
        "x_train, x_val = x_train_val[:30000], x_train_val[30000:]\n",
        "y_train, y_val = y_train_val[:30000], y_train_val[30000:]\n",
        "del x_train_val, y_train_val"
      ],
      "metadata": {
        "id": "MWMETTnjX9CM"
      },
      "execution_count": 3,
      "outputs": []
    },
    {
      "cell_type": "markdown",
      "source": [
        "# Create triplet of images\n",
        "O objetivo de criar triplets de imagem é fazer o modelo diferenciar digitos entre as classes (a == p != n). Por exemplo, 0 == 0 != (1 - 9), 1 == 1 != (0,2 - 9), 2 == 2 != (0,1 - 3-9), etc.\n",
        "\n",
        "1. selecionar N imagens aleatórias da classe a (ex. digito 0) e pareá-la com N imagens aleatórias da classe p (ex. digito 0) e uma imagem diferente da classe n (por exemplo 3).\n",
        "2. Repetir etapa (1) para todas as classes (até o digito 9)\n",
        "3. Repetir etapa (2) para o restante das classes de digitos (1 - 9)"
      ],
      "metadata": {
        "id": "ns2mjTARlbpM"
      }
    },
    {
      "cell_type": "code",
      "source": [
        "def make_triplets(x, y):\n",
        "  num_classes = max(y) + 1\n",
        "  digit_indices = [np.where(y == i)[0] for i in range(num_classes)]\n",
        "\n",
        "  triplets = []\n",
        "\n",
        "  for idx1 in range(len(x)):\n",
        "    a = x[idx1]\n",
        "    label1 = y[idx1]\n",
        "    idx2 = random.choice(digit_indices[label1])\n",
        "    p = x[idx2]\n",
        "\n",
        "    label2 = random.randint(0, num_classes - 1)\n",
        "    while label2 == label1:\n",
        "      label2 = random.randint(0, num_classes - 1)\n",
        "\n",
        "    idx2 = random.choice(digit_indices[label2])\n",
        "    n = x[idx2]\n",
        "\n",
        "    triplets += [[a, p, n]]\n",
        "\n",
        "  return np.array(triplets)\n",
        "\n",
        "triplets_train = make_triplets(x_train, y_train)\n",
        "triplets_val = make_triplets(x_val, y_val)\n",
        "triplets_test = make_triplets(x_test, y_test)\n",
        "\n",
        "fake_train_labels = np.zeros((len(y_train), 30)).astype(\"float32\")\n",
        "fake_val_labels = np.zeros((len(y_val), 30)).astype(\"float32\")\n",
        "fake_test_labels = np.zeros((len(y_test), 30)).astype(\"float32\")"
      ],
      "metadata": {
        "id": "Pj5-RDT6YGSl"
      },
      "execution_count": 4,
      "outputs": []
    },
    {
      "cell_type": "code",
      "source": [
        "triplets_test.shape"
      ],
      "metadata": {
        "colab": {
          "base_uri": "https://localhost:8080/"
        },
        "id": "H5NqZKwtMxgL",
        "outputId": "b7f2457d-f823-45bf-a9d2-52f910edfa11"
      },
      "execution_count": 20,
      "outputs": [
        {
          "output_type": "execute_result",
          "data": {
            "text/plain": [
              "(10000, 3, 28, 28)"
            ]
          },
          "metadata": {},
          "execution_count": 20
        }
      ]
    },
    {
      "cell_type": "code",
      "source": [
        "fake_test_labels.shape"
      ],
      "metadata": {
        "colab": {
          "base_uri": "https://localhost:8080/"
        },
        "id": "3rXvPazXD7eL",
        "outputId": "17199a5b-1613-462c-87b6-ae40e5a6979f"
      },
      "execution_count": 19,
      "outputs": [
        {
          "output_type": "execute_result",
          "data": {
            "text/plain": [
              "(10000, 30)"
            ]
          },
          "metadata": {},
          "execution_count": 19
        }
      ]
    },
    {
      "cell_type": "markdown",
      "source": [
        "# Visualize pairs and their labels"
      ],
      "metadata": {
        "id": "rRHAbLVTmWHr"
      }
    },
    {
      "cell_type": "code",
      "source": [
        "def visualize(anchor, positive, negative):\n",
        "    \"\"\"Visualize a few triplets from the supplied batches.\"\"\"\n",
        "\n",
        "    def show(ax, image):\n",
        "        ax.imshow(image)\n",
        "        ax.get_xaxis().set_visible(False)\n",
        "        ax.get_yaxis().set_visible(False)\n",
        "\n",
        "    fig = plt.figure(figsize=(9, 9))\n",
        "\n",
        "    axs = fig.subplots(3, 3)\n",
        "    for i in range(3):\n",
        "        show(axs[i, 0], anchor[i])\n",
        "        show(axs[i, 1], positive[i])\n",
        "        show(axs[i, 2], negative[i])\n"
      ],
      "metadata": {
        "id": "DQwkU8poFH_n"
      },
      "execution_count": 7,
      "outputs": []
    },
    {
      "cell_type": "markdown",
      "source": [
        "### Split the pairs"
      ],
      "metadata": {
        "id": "7UMuvOEvmerC"
      }
    },
    {
      "cell_type": "code",
      "source": [
        "# we can define n_samples\n",
        "x_train_a = triplets_train[:, 0]\n",
        "x_train_p = triplets_train[:, 1]\n",
        "x_train_n = triplets_train[:, 2]\n",
        "out_train = fake_train_labels[:]\n",
        "\n",
        "x_val_a = triplets_val[:, 0]\n",
        "x_val_p = triplets_val[:, 1]\n",
        "x_val_n = triplets_val[:, 2]\n",
        "out_val = fake_val_labels[:]\n",
        "\n",
        "x_test_a = triplets_test[:, 0]\n",
        "x_test_p = triplets_test[:, 1]\n",
        "x_test_n = triplets_test[:, 2]\n",
        "out_test = fake_test_labels[:]\n",
        "\n",
        "visualize(x_train_a, x_train_p, x_train_n)"
      ],
      "metadata": {
        "colab": {
          "base_uri": "https://localhost:8080/",
          "height": 730
        },
        "id": "W6TXKU-Ma07h",
        "outputId": "3940ee72-7d4a-452f-f3f9-456776f94339"
      },
      "execution_count": 8,
      "outputs": [
        {
          "output_type": "display_data",
          "data": {
            "text/plain": [
              "<Figure size 900x900 with 9 Axes>"
            ],
            "image/png": "[encoded data removed]"
          },
          "metadata": {}
        }
      ]
    },
    {
      "cell_type": "markdown",
      "source": [
        "# Define triplet loss function"
      ],
      "metadata": {
        "id": "VGk6U449m5sd"
      }
    },
    {
      "cell_type": "code",
      "source": [
        "def loss(margin=1):\n",
        "\n",
        "  def triplet_loss(y_true, y_pred):\n",
        "    anchor_out = y_pred[:, 0:10]\n",
        "    positive_out = y_pred[:, 10:20]\n",
        "    negative_out = y_pred[:, 20:30]\n",
        "\n",
        "    pos_dist = tf.math.reduce_sum(tf.math.square(positive_out - anchor_out), axis=1)\n",
        "    neg_dist = tf.math.reduce_sum(tf.math.square(anchor_out - negative_out), axis=1)\n",
        "\n",
        "    loss = pos_dist - neg_dist\n",
        "    loss = tf.maximum(loss + margin, 0.0)\n",
        "    return loss\n",
        "  return triplet_loss\n"
      ],
      "metadata": {
        "id": "TWfkuxGI2zzd"
      },
      "execution_count": 10,
      "outputs": []
    },
    {
      "cell_type": "markdown",
      "source": [
        "# Define model\n",
        "* three inputs layers\n",
        "* three networks (siamese network)\n",
        "* embedding network\n",
        "* merge outputs\n",
        "* triplet loss"
      ],
      "metadata": {
        "id": "jAwD8JV6m_0a"
      }
    },
    {
      "cell_type": "markdown",
      "source": [
        "## embedding network"
      ],
      "metadata": {
        "id": "orq76oXInarw"
      }
    },
    {
      "cell_type": "code",
      "source": [
        "input = layers.Input((28,28,1))\n",
        "# baseline network\n",
        "x = layers.BatchNormalization()(input)\n",
        "x = layers.Conv2D(4, (5,5), activation=\"tanh\")(x)\n",
        "x = layers.AveragePooling2D(pool_size=(2,2))(x)\n",
        "x = layers.Conv2D(16, (5,5), activation=\"tanh\")(x)\n",
        "x = layers.AveragePooling2D(pool_size=(2,2))(x)\n",
        "x = layers.Flatten()(x)\n",
        "\n",
        "x = layers.BatchNormalization()(x)\n",
        "x = layers.Dense(10, activation=\"tanh\")(x)\n",
        "embedding_network = Model(input, x)\n",
        "\n",
        "embedding_network.summary()"
      ],
      "metadata": {
        "colab": {
          "base_uri": "https://localhost:8080/"
        },
        "id": "-cNGIy2r0Iia",
        "outputId": "a0d33310-d019-4a61-fd09-42de00e95f0e"
      },
      "execution_count": 11,
      "outputs": [
        {
          "output_type": "stream",
          "name": "stdout",
          "text": [
            "Model: \"model\"\n",
            "_________________________________________________________________\n",
            " Layer (type)                Output Shape              Param #   \n",
            "=================================================================\n",
            " input_1 (InputLayer)        [(None, 28, 28, 1)]       0         \n",
            "                                                                 \n",
            " batch_normalization (Batch  (None, 28, 28, 1)         4         \n",
            " Normalization)                                                  \n",
            "                                                                 \n",
            " conv2d (Conv2D)             (None, 24, 24, 4)         104       \n",
            "                                                                 \n",
            " average_pooling2d (Average  (None, 12, 12, 4)         0         \n",
            " Pooling2D)                                                      \n",
            "                                                                 \n",
            " conv2d_1 (Conv2D)           (None, 8, 8, 16)          1616      \n",
            "                                                                 \n",
            " average_pooling2d_1 (Avera  (None, 4, 4, 16)          0         \n",
            " gePooling2D)                                                    \n",
            "                                                                 \n",
            " flatten (Flatten)           (None, 256)               0         \n",
            "                                                                 \n",
            " batch_normalization_1 (Bat  (None, 256)               1024      \n",
            " chNormalization)                                                \n",
            "                                                                 \n",
            " dense (Dense)               (None, 10)                2570      \n",
            "                                                                 \n",
            "=================================================================\n",
            "Total params: 5318 (20.77 KB)\n",
            "Trainable params: 4804 (18.77 KB)\n",
            "Non-trainable params: 514 (2.01 KB)\n",
            "_________________________________________________________________\n"
          ]
        }
      ]
    },
    {
      "cell_type": "markdown",
      "source": [
        "## siamese network with triplet inputs"
      ],
      "metadata": {
        "id": "Pp0KOobfnf5I"
      }
    },
    {
      "cell_type": "code",
      "source": [
        "input_a = layers.Input((28,28,1))\n",
        "input_p = layers.Input((28,28,1))\n",
        "input_n = layers.Input((28,28,1))\n",
        "\n",
        "# siamese network\n",
        "# share weights between sisters\n",
        "tower_a = embedding_network(input_a)\n",
        "tower_p = embedding_network(input_p)\n",
        "tower_n = embedding_network(input_n)\n",
        "\n",
        "merge_layer = layers.Concatenate()([tower_a,tower_p,tower_n])\n",
        "siamese = Model(inputs=[input_a, input_p, input_n], outputs=merge_layer)\n",
        "siamese.summary()"
      ],
      "metadata": {
        "colab": {
          "base_uri": "https://localhost:8080/"
        },
        "id": "KU22-oN41Ynk",
        "outputId": "ae22843d-0ba9-449a-b1a4-5e76ff72b2d2"
      },
      "execution_count": 12,
      "outputs": [
        {
          "output_type": "stream",
          "name": "stdout",
          "text": [
            "Model: \"model_1\"\n",
            "__________________________________________________________________________________________________\n",
            " Layer (type)                Output Shape                 Param #   Connected to                  \n",
            "==================================================================================================\n",
            " input_2 (InputLayer)        [(None, 28, 28, 1)]          0         []                            \n",
            "                                                                                                  \n",
            " input_3 (InputLayer)        [(None, 28, 28, 1)]          0         []                            \n",
            "                                                                                                  \n",
            " input_4 (InputLayer)        [(None, 28, 28, 1)]          0         []                            \n",
            "                                                                                                  \n",
            " model (Functional)          (None, 10)                   5318      ['input_2[0][0]',             \n",
            "                                                                     'input_3[0][0]',             \n",
            "                                                                     'input_4[0][0]']             \n",
            "                                                                                                  \n",
            " concatenate (Concatenate)   (None, 30)                   0         ['model[0][0]',               \n",
            "                                                                     'model[1][0]',               \n",
            "                                                                     'model[2][0]']               \n",
            "                                                                                                  \n",
            "==================================================================================================\n",
            "Total params: 5318 (20.77 KB)\n",
            "Trainable params: 4804 (18.77 KB)\n",
            "Non-trainable params: 514 (2.01 KB)\n",
            "__________________________________________________________________________________________________\n"
          ]
        }
      ]
    },
    {
      "cell_type": "markdown",
      "source": [
        "# Compile and train model"
      ],
      "metadata": {
        "id": "yx1vftn6noHX"
      }
    },
    {
      "cell_type": "code",
      "source": [
        "siamese.compile(loss=loss(margin=1), optimizer=\"adam\", metrics=\"mse\")"
      ],
      "metadata": {
        "id": "r7q1NfW02wOP"
      },
      "execution_count": 13,
      "outputs": []
    },
    {
      "cell_type": "code",
      "source": [
        "history = siamese.fit(\n",
        "    [x_train_a, x_train_p, x_train_n],\n",
        "    out_train,\n",
        "    validation_data=([x_val_a, x_val_p, x_val_n], out_val),\n",
        "    batch_size = 16,\n",
        "    epochs = 10,\n",
        ")"
      ],
      "metadata": {
        "colab": {
          "base_uri": "https://localhost:8080/"
        },
        "id": "vNr-6caK7xO5",
        "outputId": "c7b89aec-dff8-46ab-f068-1b0c55ac661f"
      },
      "execution_count": 21,
      "outputs": [
        {
          "output_type": "stream",
          "name": "stdout",
          "text": [
            "Epoch 1/10\n",
            "1875/1875 [==============================] - 16s 9ms/step - loss: 0.1494 - mse: 0.6593 - val_loss: 0.0943 - val_mse: 0.7042\n",
            "Epoch 2/10\n",
            "1875/1875 [==============================] - 21s 11ms/step - loss: 0.1023 - mse: 0.6967 - val_loss: 0.0766 - val_mse: 0.7516\n",
            "Epoch 3/10\n",
            "1875/1875 [==============================] - 15s 8ms/step - loss: 0.0823 - mse: 0.7359 - val_loss: 0.0488 - val_mse: 0.7795\n",
            "Epoch 4/10\n",
            "1875/1875 [==============================] - 16s 8ms/step - loss: 0.0766 - mse: 0.7599 - val_loss: 0.0493 - val_mse: 0.7969\n",
            "Epoch 5/10\n",
            "1875/1875 [==============================] - 16s 8ms/step - loss: 0.0618 - mse: 0.7776 - val_loss: 0.0422 - val_mse: 0.8146\n",
            "Epoch 6/10\n",
            "1875/1875 [==============================] - 15s 8ms/step - loss: 0.0594 - mse: 0.7804 - val_loss: 0.0484 - val_mse: 0.8269\n",
            "Epoch 7/10\n",
            "1875/1875 [==============================] - 16s 8ms/step - loss: 0.0455 - mse: 0.7934 - val_loss: 0.0378 - val_mse: 0.8242\n",
            "Epoch 8/10\n",
            "1875/1875 [==============================] - 15s 8ms/step - loss: 0.0453 - mse: 0.8049 - val_loss: 0.0341 - val_mse: 0.8467\n",
            "Epoch 9/10\n",
            "1875/1875 [==============================] - 15s 8ms/step - loss: 0.0445 - mse: 0.8132 - val_loss: 0.0423 - val_mse: 0.8393\n",
            "Epoch 10/10\n",
            "1875/1875 [==============================] - 15s 8ms/step - loss: 0.0400 - mse: 0.8103 - val_loss: 0.0488 - val_mse: 0.8363\n"
          ]
        }
      ]
    },
    {
      "cell_type": "markdown",
      "source": [
        "# Check predictions in test dataset"
      ],
      "metadata": {
        "id": "KX1faRwEnu14"
      }
    },
    {
      "cell_type": "code",
      "source": [
        "visualize(x_test_a, x_test_p, x_test_n)"
      ],
      "metadata": {
        "colab": {
          "base_uri": "https://localhost:8080/",
          "height": 730
        },
        "id": "qXPQqpJia7bA",
        "outputId": "1f9d8060-82dc-4bb7-923f-2447dfe08581"
      },
      "execution_count": 22,
      "outputs": [
        {
          "output_type": "display_data",
          "data": {
            "text/plain": [
              "<Figure size 900x900 with 9 Axes>"
            ],
            "image/png": "[encoded data removed]"
          },
          "metadata": {}
        }
      ]
    },
    {
      "cell_type": "code",
      "source": [
        "def euclidean_distance(vects):\n",
        "  x, y = vects\n",
        "  sum_square = tf.math.reduce_sum(tf.math.square(x - y), keepdims=True)\n",
        "  return tf.math.sqrt(tf.math.maximum(sum_square, tf.keras.backend.epsilon())) # avoid zero division"
      ],
      "metadata": {
        "id": "WXv1rOinjGNP"
      },
      "execution_count": 53,
      "outputs": []
    },
    {
      "cell_type": "code",
      "source": [
        "anchor_embedding = embedding_network(x_test_a)\n",
        "positive_embedding = embedding_network(x_test_p)\n",
        "negative_embedding = embedding_network(x_test_n)"
      ],
      "metadata": {
        "id": "U6GAEBKibgtV"
      },
      "execution_count": 24,
      "outputs": []
    },
    {
      "cell_type": "code",
      "source": [
        "positive_similarity = euclidean_distance([anchor_embedding[30], positive_embedding[30]])\n",
        "print(\"Positive distance:\", positive_similarity.numpy())\n",
        "\n",
        "negative_similarity = euclidean_distance([anchor_embedding[30], negative_embedding[30]])\n",
        "print(\"Negative distance\", negative_similarity.numpy())\n"
      ],
      "metadata": {
        "colab": {
          "base_uri": "https://localhost:8080/"
        },
        "id": "kFyC7mmfGTJ-",
        "outputId": "37f14c30-4fd1-4895-b4d6-aa9d9f9c6122"
      },
      "execution_count": 62,
      "outputs": [
        {
          "output_type": "stream",
          "name": "stdout",
          "text": [
            "Positive distance: [0.14217661]\n",
            "Negative distance [3.3948178]\n"
          ]
        }
      ]
    }
  ]
}